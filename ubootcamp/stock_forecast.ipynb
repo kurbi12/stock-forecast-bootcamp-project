{
 "cells": [
  {
   "cell_type": "markdown",
   "id": "876f120c",
   "metadata": {},
   "source": [
    "\n",
    "# Stock Forecast (Bootcamp Mini Proje)\n",
    "\n",
    "Bu notebook, seçtiğiniz bir hissenin **bir sonraki gün (t+1) kapanış fiyatını** basit ve anlaşılır makine öğrenmesi yöntemleriyle tahmin eder.\n",
    "\n",
    "**İçerik:**\n",
    "- Veri: Yahoo Finance (`yfinance`)\n",
    "- Özellikler: `lag1/5/10`, `sma5/10`, `vol5`, `rsi14`\n",
    "- Modeller: Basit *Naive* (lag1), **Linear Regression**, **Random Forest**\n",
    "- Metrik: **MAE** (+ R²)\n",
    "- Grafik: Gerçek vs Tahmin (son 200 gün)\n",
    "- Son hücre: **Yarın için tahmin**\n",
    "\n",
    "> **Not:** Bu eğitim amaçlı bir demodur; yatırım tavsiyesi değildir.\n"
   ]
  },
  {
   "cell_type": "code",
   "execution_count": null,
   "id": "707ee923",
   "metadata": {},
   "outputs": [],
   "source": [
    "\n",
    "import pandas as pd\n",
    "import numpy as np\n",
    "import yfinance as yf\n",
    "from sklearn.metrics import mean_absolute_error, r2_score\n",
    "from sklearn.linear_model import LinearRegression\n",
    "from sklearn.ensemble import RandomForestRegressor\n",
    "import matplotlib.pyplot as plt\n",
    "\n",
    "# ---- Parametreler ----\n",
    "TICKER = \"AAPL\"         # Örn: \"TSLA\" veya BIST için \"THYAO.IS\", \"GARAN.IS\"\n",
    "START  = \"2018-01-01\"   # Veri başlangıç tarihi\n",
    "END    = None           # None = bugüne kadar\n",
    "PREDICT_HORIZON = 1     # t+1 tahmini; 5 yaparsanız t+5 olur.\n"
   ]
  },
  {
   "cell_type": "code",
   "execution_count": null,
   "id": "6c6a6397",
   "metadata": {},
   "outputs": [],
   "source": [
    "\n",
    "raw = yf.download(TICKER, start=START, end=END, auto_adjust=True)\n",
    "raw = raw.dropna()\n",
    "display(raw.tail())\n",
    "print(f\"Toplam gözlem: {len(raw)}\")\n"
   ]
  },
  {
   "cell_type": "code",
   "execution_count": null,
   "id": "ef1eff77",
   "metadata": {},
   "outputs": [],
   "source": [
    "\n",
    "df = raw.copy()\n",
    "df[\"ret\"]   = df[\"Close\"].pct_change()\n",
    "df[\"lag1\"]  = df[\"Close\"].shift(1)\n",
    "df[\"lag5\"]  = df[\"Close\"].shift(5)\n",
    "df[\"lag10\"] = df[\"Close\"].shift(10)\n",
    "df[\"sma5\"]  = df[\"Close\"].rolling(5).mean()\n",
    "df[\"sma10\"] = df[\"Close\"].rolling(10).mean()\n",
    "df[\"vol5\"]  = df[\"ret\"].rolling(5).std()\n",
    "\n",
    "# RSI (14)\n",
    "delta = df[\"Close\"].diff()\n",
    "gain = delta.clip(lower=0).rolling(14).mean()\n",
    "loss = -delta.clip(upper=0).rolling(14).mean()\n",
    "rs = gain / (loss + 1e-9)\n",
    "df[\"rsi14\"] = 100 - (100 / (1 + rs))\n",
    "\n",
    "# Hedef (y): t+1 kapanış\n",
    "df[\"y\"] = df[\"Close\"].shift(-PREDICT_HORIZON)\n",
    "\n",
    "features = [\"lag1\",\"lag5\",\"lag10\",\"sma5\",\"sma10\",\"vol5\",\"rsi14\"]\n",
    "data = df.dropna().copy()\n",
    "X, y = data[features], data[\"y\"]\n",
    "display(data[[*features, \"y\"]].tail())\n",
    "print(\"Özellik şekli:\", X.shape, \"| Hedef uzunluğu:\", len(y))\n"
   ]
  },
  {
   "cell_type": "code",
   "execution_count": null,
   "id": "0a19952b",
   "metadata": {},
   "outputs": [],
   "source": [
    "\n",
    "# Zaman bazlı (shuffle yok) 80/20 bölme\n",
    "split = int(len(X) * 0.8)\n",
    "X_train, y_train = X.iloc[:split], y.iloc[:split]\n",
    "X_test,  y_test  = X.iloc[split:], y.iloc[split:]\n",
    "\n",
    "# Naive baseline: yhat = bugünkü kapanış (lag1)\n",
    "yhat_naive = X_test[\"lag1\"].values\n",
    "mae_naive = mean_absolute_error(y_test, yhat_naive)\n",
    "print(\"Naive MAE:\", round(mae_naive, 4))\n"
   ]
  },
  {
   "cell_type": "code",
   "execution_count": null,
   "id": "01b4fc8a",
   "metadata": {},
   "outputs": [],
   "source": [
    "\n",
    "lr = LinearRegression()\n",
    "lr.fit(X_train, y_train)\n",
    "yhat_lr = lr.predict(X_test)\n",
    "\n",
    "mae_lr = mean_absolute_error(y_test, yhat_lr)\n",
    "r2_lr  = r2_score(y_test, yhat_lr)\n",
    "print(\"LR  - MAE:\", round(mae_lr, 4), \"| R2:\", round(r2_lr, 4))\n"
   ]
  },
  {
   "cell_type": "code",
   "execution_count": null,
   "id": "b3d4a675",
   "metadata": {},
   "outputs": [],
   "source": [
    "\n",
    "rf = RandomForestRegressor(\n",
    "    n_estimators=300,\n",
    "    max_depth=8,\n",
    "    random_state=42,\n",
    "    n_jobs=-1\n",
    ")\n",
    "rf.fit(X_train, y_train)\n",
    "yhat_rf = rf.predict(X_test)\n",
    "\n",
    "mae_rf = mean_absolute_error(y_test, yhat_rf)\n",
    "r2_rf  = r2_score(y_test, yhat_rf)\n",
    "print(\"RF  - MAE:\", round(mae_rf, 4), \"| R2:\", round(r2_rf, 4))\n"
   ]
  },
  {
   "cell_type": "code",
   "execution_count": null,
   "id": "d3c98f38",
   "metadata": {},
   "outputs": [],
   "source": [
    "\n",
    "res = pd.DataFrame({\n",
    "    \"Model\": [\"Naive(lag1)\", \"LinearRegression\", \"RandomForest\"],\n",
    "    \"MAE\":   [mae_naive, mae_lr, mae_rf],\n",
    "    \"R2\":    [np.nan, r2_lr, r2_rf]\n",
    "}).sort_values(\"MAE\")\n",
    "res\n"
   ]
  },
  {
   "cell_type": "code",
   "execution_count": null,
   "id": "bccd9d63",
   "metadata": {},
   "outputs": [],
   "source": [
    "\n",
    "plot_df = pd.DataFrame({\n",
    "    \"y_true\": y_test,\n",
    "    \"yhat_lr\": yhat_lr,\n",
    "    \"yhat_rf\": yhat_rf\n",
    "}, index=y_test.index)\n",
    "\n",
    "plt.figure(figsize=(10,4))\n",
    "plot_df[[\"y_true\", \"yhat_lr\", \"yhat_rf\"]].tail(200).plot(figsize=(12,4))\n",
    "plt.title(f\"{TICKER} – Son 200 gün: Gerçek vs Tahmin\")\n",
    "plt.xlabel(\"Tarih\"); plt.ylabel(\"Fiyat\")\n",
    "plt.tight_layout()\n",
    "plt.show()\n"
   ]
  },
  {
   "cell_type": "code",
   "execution_count": null,
   "id": "c544d158",
   "metadata": {},
   "outputs": [],
   "source": [
    "\n",
    "last = df.dropna().iloc[-1]\n",
    "x_pred = pd.DataFrame([{f: last[f] for f in features}])\n",
    "\n",
    "next_lr = float(lr.predict(x_pred))\n",
    "next_rf = float(rf.predict(x_pred))\n",
    "\n",
    "print(\"Bugünkü Close:\", round(last[\"Close\"], 2))\n",
    "print(\"Yarın Tahmin (LR):\", round(next_lr, 2))\n",
    "print(\"Yarın Tahmin (RF):\", round(next_rf, 2))\n",
    "print(\"\\nNot: Tahminleri ±MAE aralığıyla düşünmek daha gerçekçidir.\")\n"
   ]
  },
  {
   "cell_type": "code",
   "execution_count": null,
   "id": "51936801",
   "metadata": {},
   "outputs": [],
   "source": [
    "\n",
    "# Opsiyonel: RF özellik önemleri\n",
    "imp = pd.Series(rf.feature_importances_, index=features).sort_values(ascending=False)\n",
    "display(imp)\n"
   ]
  },
  {
   "cell_type": "markdown",
   "id": "c8851dcc",
   "metadata": {},
   "source": [
    "\n",
    "## Notlar\n",
    "- **Naive**: \"Yarın = Bugünkü kapanış\" basit kuralıdır; model bundan **daha iyi** olmalı ki değer üretsin.\n",
    "- **R²** pozitifse model varyansı anlamlı açıklıyor demektir (negatif olabilir, sorun değil; MAE birincil metriktir).\n",
    "- **Uyarı:** Zaman serilerinde ileri bilgi sızıntısına (data leakage) dikkat. Bu notebook'ta yalnızca geçmiş veriden özellik üretildi.\n",
    "- **Genişletme fikirleri:**\n",
    "  - Parametre tarama (GridSearch) ile RF'yi iyileştirme\n",
    "  - Hedefi getiri (yüzde değişim) olarak modelleyip fiyata geri çevirmek\n",
    "  - LSTM/GRU gibi derin öğrenme modelleri eklemek (daha uzun süre, daha çok kod)\n"
   ]
  }
 ],
 "metadata": {},
 "nbformat": 4,
 "nbformat_minor": 5
}